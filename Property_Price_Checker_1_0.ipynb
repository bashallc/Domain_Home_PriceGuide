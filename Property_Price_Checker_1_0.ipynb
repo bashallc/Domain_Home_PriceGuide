{
 "cells": [
  {
   "cell_type": "markdown",
   "metadata": {
    "colab_type": "text",
    "id": "R4CkDeqGtgU5"
   },
   "source": [
    "# Property Price Guide Fetcher\n",
    "This script allows you to find the price range for a given property listed on [Domain.com.au](https://www.domain.com.au/) where there is no price provided by the agent.\n",
    "It does this by retrieving a property's details then performing a series of searches for different price ranges until it finds the upper and lower limits.\n",
    "\n",
    "See [Medium post](https://medium.com/@alexdambra/how-to-get-aussie-property-price-guides-using-python-the-domain-api-afe871efac96).\n",
    "\n",
    "*Developed by [Alex D'Ambra](https://www.linkedin.com/in/alexdambra/)*\n",
    "*Updated by [Chris Bashall](https://bashallc.github.io/home/)*\n",
    "\n",
    "---"
   ]
  },
  {
   "cell_type": "markdown",
   "metadata": {
    "colab_type": "text",
    "id": "_Q5qP19B6f2H"
   },
   "source": [
    "Import required libraries"
   ]
  },
  {
   "cell_type": "code",
   "execution_count": 1,
   "metadata": {},
   "outputs": [],
   "source": [
    "scarboro = 12678\n",
    "doubleview = 4138\n",
    "\n"
   ]
  },
  {
   "cell_type": "code",
   "execution_count": 2,
   "metadata": {
    "colab": {},
    "colab_type": "code",
    "id": "15tnDGBYF3DC"
   },
   "outputs": [],
   "source": [
    "import json\n",
    "import requests # this library is awesome: http://docs.python-requests.org/en/master/\n",
    "import re, string, timeit\n",
    "import time\n",
    "import datetime\n",
    "import csv"
   ]
  },
  {
   "cell_type": "markdown",
   "metadata": {
    "colab_type": "text",
    "id": "M9WV6WDU5k-0"
   },
   "source": [
    "**Setup your parameters**\n",
    "\n",
    "1.   Set your property ID. You can grab from end of the listing's URL.\n",
    "      *eg. https://www.domain.com.au/132a-prince-edward-avenue-earlwood-nsw-2206-2014925785*\n",
    "2.   Set your starting lower bound eg. 500k starting max price. The starting min price will default to your lower bound plus 400k, or you can set this manually. This will reduce the amount of API calls required.\n",
    "3.   Set your increment value. This will increase/decrease the starting prices by this amount until a hit is made. eg. 50k. Smaller increments might be more accurate but increase API calls. Most agents would probably set guides in $50-100k increments one would assume anyway (can you tell I live in Sydney...)\n",
    "\n",
    "\n",
    "\n",
    "\n",
    "\n",
    "\n",
    "\n",
    "\n"
   ]
  },
  {
   "cell_type": "code",
   "execution_count": 4,
   "metadata": {
    "cellView": "both",
    "colab": {},
    "colab_type": "code",
    "id": "DqEx2ror5Ih9"
   },
   "outputs": [],
   "source": [
    "# setup\n",
    "property_id=\"2016187571\"\n",
    "starting_max_price=1000000\n",
    "increment=10000\n",
    "# when starting min price is zero we'll just use the lower bound plus 400k later on\n",
    "starting_min_price=0"
   ]
  },
  {
   "cell_type": "markdown",
   "metadata": {
    "colab_type": "text",
    "id": "sr8-kUTO6nBe"
   },
   "source": [
    "Provide your client credentials as per your [Domain](https://developer.domain.com.au) developer account.\n",
    "\n",
    "Required: `client_id` and `client_secret`\n",
    "\n",
    "Make a POST request to receive token."
   ]
  },
  {
   "cell_type": "code",
   "execution_count": 5,
   "metadata": {
    "colab": {},
    "colab_type": "code",
    "id": "wUdCE2PQF3DL"
   },
   "outputs": [
    {
     "data": {
      "text/plain": [
       "'6560ddafdbf408143f5e164541a07cdb'"
      ]
     },
     "execution_count": 5,
     "metadata": {},
     "output_type": "execute_result"
    }
   ],
   "source": [
    "# POST request for token\n",
    "response = requests.post('https://auth.domain.com.au/v1/connect/token', data = {'client_id':'client_ccdf714ee11cc66cc1d679119502e8ed',\"client_secret\":\"secret_14d43a0461bed7347d46dca18d201f34\",\"grant_type\":\"client_credentials\",\"scope\":\"api_listings_read\",\"Content-Type\":\"text/json\"})\n",
    "token=response.json()\n",
    "access_token=token[\"access_token\"]\n",
    "access_token"
   ]
  },
  {
   "cell_type": "markdown",
   "metadata": {
    "colab_type": "text",
    "id": "WWS9yEIl7JwY"
   },
   "source": [
    "Make a GET request to the listings endpoint to retrieve listing info for your selected property."
   ]
  },
  {
   "cell_type": "code",
   "execution_count": 6,
   "metadata": {
    "colab": {},
    "colab_type": "code",
    "id": "tlwYltsjF3DO"
   },
   "outputs": [
    {
     "name": "stdout",
     "output_type": "stream",
     "text": [
      "<Response [200]>\n"
     ]
    }
   ],
   "source": [
    "# GET Request for ID\n",
    "url = \"https://api.domain.com.au/v1/listings/\"+property_id\n",
    "auth = {\"Authorization\":\"Bearer \"+ access_token}\n",
    "request = requests.get(url,headers=auth)\n",
    "print(request)\n",
    "r=request.json()"
   ]
  },
  {
   "cell_type": "markdown",
   "metadata": {
    "colab_type": "text",
    "id": "xTSeHYiA7YzP"
   },
   "source": [
    "Extract property details"
   ]
  },
  {
   "cell_type": "code",
   "execution_count": 7,
   "metadata": {
    "colab": {
     "base_uri": "https://localhost:8080/",
     "height": 51
    },
    "colab_type": "code",
    "id": "0gqb8ndsF3DS",
    "outputId": "6a3b90c9-ebb5-4572-fb4d-ab472be50edf"
   },
   "outputs": [
    {
     "name": "stdout",
     "output_type": "stream",
     "text": [
      "['house'] 6018 Gwelup 4.0 2.0 2.0\n"
     ]
    }
   ],
   "source": [
    "#get details\n",
    "da=r['addressParts']\n",
    "postcode=da['postcode']\n",
    "suburb=da['suburb']\n",
    "bathrooms=r['bathrooms']\n",
    "bedrooms=r['bedrooms']\n",
    "dateListed =r['dateListed']\n",
    "date = datetime.datetime.today().strftime('%Y-%m-%d')\n",
    "last_updated = r['dateUpdated']\n",
    "agent = r['advertiserIdentifiers']\n",
    "\n",
    "try:\n",
    "    carspaces=r['carspaces']\n",
    "except Exception:\n",
    "    print(\"car spaces not provided\")\n",
    "    carspaces=-1\n",
    "    pass\n",
    "\n",
    "property_type=r['propertyTypes']\n",
    "try:\n",
    "    size=r['landAreaSqm']\n",
    "except Exception:\n",
    "    print(\"size not provided\")\n",
    "    size=-1\n",
    "    pass\n",
    "\n",
    "try:\n",
    "    print(property_type,postcode, suburb, bedrooms, bathrooms,  carspaces)\n",
    "except Exception:\n",
    "    pass\n",
    "# the below puts all relevant property types into a single string. eg. a property listing can be a 'house' and a 'townhouse'\n",
    "n=0\n",
    "property_type_str=\"\"\n",
    "for p in r['propertyTypes']:\n",
    "  property_type_str=property_type_str+(r['propertyTypes'][int(n)])\n",
    "  n=n+1\n",
    "    \n",
    "status = r['status']\n",
    "lat = (r['geoLocation'].get('latitude')) \n",
    "long = (r['geoLocation'].get('longitude')) \n",
    "    \n"
   ]
  },
  {
   "cell_type": "markdown",
   "metadata": {
    "colab_type": "text",
    "id": "-wrqbvDR7kQD"
   },
   "source": [
    "Now loop through a series of POST requests that search for your property starting with your starting max price, increasing by your increment each time until you get a result. \n",
    "\n",
    "We achieve this by using a `do while` loop. After receiving a response we put the list of property IDs into a Python list and then check if our original property_id is in that list. "
   ]
  },
  {
   "cell_type": "code",
   "execution_count": 8,
   "metadata": {
    "colab": {},
    "colab_type": "code",
    "id": "EWbIWtgx75c8"
   },
   "outputs": [],
   "source": [
    "max_price=starting_max_price\n",
    "searching_for_price=True"
   ]
  },
  {
   "cell_type": "code",
   "execution_count": 9,
   "metadata": {
    "colab": {
     "base_uri": "https://localhost:8080/",
     "height": 306
    },
    "colab_type": "code",
    "id": "Mpz2FiNzF3Dh",
    "outputId": "582adf40-9f76-4d18-b451-aa2de5d7fde5"
   },
   "outputs": [
    {
     "name": "stdout",
     "output_type": "stream",
     "text": [
      "Lower bound found:  990000\n"
     ]
    }
   ],
   "source": [
    "# Start your loop\n",
    "while searching_for_price:\n",
    "    \n",
    "    url = \"https://api.domain.com.au/v1/listings/residential/_search\" # Set destination URL here\n",
    "    post_fields ={\n",
    "      \"listingType\":\"Sale\",\n",
    "        \"maxPrice\":max_price,\n",
    "        \"pageSize\":100,\n",
    "      \"propertyTypes\":property_type,\n",
    "      \"minBedrooms\":bedrooms,\n",
    "        \"maxBedrooms\":bedrooms,\n",
    "      \"minBathrooms\":bathrooms,\n",
    "        \"maxBathrooms\":bathrooms,\n",
    "      \"locations\":[\n",
    "        {\n",
    "          \"state\":\"\",\n",
    "          \"region\":\"\",\n",
    "          \"area\":\"\",\n",
    "          \"suburb\":suburb,\n",
    "          \"postCode\":postcode,\n",
    "          \"includeSurroundingSuburbs\":False\n",
    "        }\n",
    "      ]\n",
    "    }\n",
    "\n",
    "    request = requests.post(url,headers=auth,json=post_fields)\n",
    "\n",
    "    l=request.json()\n",
    "    listings = []\n",
    "    for listing in l:\n",
    "        listings.append(listing[\"listing\"][\"id\"])\n",
    "    listings\n",
    "\n",
    "    if int(property_id) in listings:\n",
    "            max_price=max_price-increment\n",
    "            print(\"Lower bound found: \", max_price)\n",
    "            searching_for_price=False\n",
    "    else:\n",
    "        max_price=max_price+increment\n",
    "        print(\"Not found. Increasing max price to \",max_price)\n",
    "        time.sleep(0.1)  # sleep a bit so you don't make too many API calls too quickly  \n",
    "        if max_price > 1200000:\n",
    "            break"
   ]
  },
  {
   "cell_type": "markdown",
   "metadata": {
    "colab_type": "text",
    "id": "6V7ZIyuT77Ij"
   },
   "source": [
    "Now do the same but from the upper end begining with your starting min price and decreasing by your increment. This will get us an upper bound."
   ]
  },
  {
   "cell_type": "code",
   "execution_count": 10,
   "metadata": {
    "colab": {},
    "colab_type": "code",
    "id": "m6ZuOlKmF3Dn"
   },
   "outputs": [],
   "source": [
    "searching_for_price=True\n",
    "if starting_min_price>0:\n",
    "  min_price=starting_min_price\n",
    "else:  \n",
    "  min_price=max_price+200000  "
   ]
  },
  {
   "cell_type": "code",
   "execution_count": 11,
   "metadata": {
    "colab": {
     "base_uri": "https://localhost:8080/",
     "height": 153
    },
    "colab_type": "code",
    "id": "2k6emLYwF3Dr",
    "outputId": "bdf3f560-c910-418e-c7a7-d938841c4069"
   },
   "outputs": [
    {
     "name": "stdout",
     "output_type": "stream",
     "text": [
      "Not found. Decreasing min price to  1180000\n",
      "Not found. Decreasing min price to  1170000\n",
      "Not found. Decreasing min price to  1160000\n",
      "Not found. Decreasing min price to  1150000\n",
      "Not found. Decreasing min price to  1140000\n",
      "Not found. Decreasing min price to  1130000\n",
      "Not found. Decreasing min price to  1120000\n",
      "Not found. Decreasing min price to  1110000\n",
      "Not found. Decreasing min price to  1100000\n",
      "Not found. Decreasing min price to  1090000\n",
      "Not found. Decreasing min price to  1080000\n",
      "Not found. Decreasing min price to  1070000\n",
      "Not found. Decreasing min price to  1060000\n",
      "Not found. Decreasing min price to  1050000\n",
      "Not found. Decreasing min price to  1040000\n",
      "Not found. Decreasing min price to  1030000\n",
      "Not found. Decreasing min price to  1020000\n",
      "Not found. Decreasing min price to  1010000\n",
      "Not found. Decreasing min price to  1000000\n",
      "Not found. Decreasing min price to  990000\n",
      "Not found. Decreasing min price to  980000\n",
      "Not found. Decreasing min price to  970000\n",
      "Not found. Decreasing min price to  960000\n",
      "Not found. Decreasing min price to  950000\n",
      "Not found. Decreasing min price to  940000\n",
      "Not found. Decreasing min price to  930000\n",
      "Not found. Decreasing min price to  920000\n",
      "Not found. Decreasing min price to  910000\n",
      "Not found. Decreasing min price to  900000\n",
      "Not found. Decreasing min price to  890000\n",
      "Not found. Decreasing min price to  880000\n",
      "Not found. Decreasing min price to  870000\n",
      "Not found. Decreasing min price to  860000\n",
      "Not found. Decreasing min price to  850000\n",
      "Not found. Decreasing min price to  840000\n",
      "Not found. Decreasing min price to  830000\n",
      "Not found. Decreasing min price to  820000\n",
      "Not found. Decreasing min price to  810000\n",
      "Upper bound found:  820000\n"
     ]
    }
   ],
   "source": [
    "while searching_for_price:\n",
    "    \n",
    "    url = \"https://api.domain.com.au/v1/listings/residential/_search\" # Set destination URL here\n",
    "    post_fields ={\n",
    "      \"listingType\":\"Sale\",\n",
    "        \"minPrice\":min_price,\n",
    "        \"pageSize\":100,\n",
    "      \"propertyTypes\":property_type,\n",
    "      \"minBedrooms\":bedrooms,\n",
    "        \"maxBedrooms\":bedrooms,\n",
    "      \"minBathrooms\":bathrooms,\n",
    "        \"maxBathrooms\":bathrooms,\n",
    "      \"locations\":[\n",
    "        {\n",
    "          \"state\":\"\",\n",
    "          \"region\":\"\",\n",
    "          \"area\":\"\",\n",
    "          \"suburb\":suburb,\n",
    "          \"postCode\":postcode,\n",
    "          \"includeSurroundingSuburbs\":False\n",
    "        }\n",
    "      ]\n",
    "    }\n",
    "\n",
    "    request = requests.post(url,headers=auth,json=post_fields)\n",
    "\n",
    "    l=request.json()\n",
    "    listings = []\n",
    "    for listing in l:\n",
    "        listings.append(listing[\"listing\"][\"id\"])\n",
    "    listings\n",
    "\n",
    "    if int(property_id) in listings:\n",
    "            min_price=min_price+increment\n",
    "            print(\"Upper bound found: \", min_price)\n",
    "            searching_for_price=False\n",
    "    else:\n",
    "        min_price=min_price-increment\n",
    "        print(\"Not found. Decreasing min price to \",min_price)\n",
    "        time.sleep(0.1)  # sleep a bit so you don't make too many API calls too quickly     \n",
    "       "
   ]
  },
  {
   "cell_type": "markdown",
   "metadata": {
    "colab_type": "text",
    "id": "SnYfXCSH8J_i"
   },
   "source": [
    "Format your numbers for your final string."
   ]
  },
  {
   "cell_type": "code",
   "execution_count": 12,
   "metadata": {
    "colab": {},
    "colab_type": "code",
    "id": "CdkRSTRCJ7dD"
   },
   "outputs": [],
   "source": [
    "if max_price<1000000:\n",
    "  lower=max_price\n",
    "  upper=min_price\n",
    "  denom=\"k\"\n",
    "else: \n",
    "  lower=max_price/1000000\n",
    "  upper=min_price/1000000\n",
    "  denom=\"m\""
   ]
  },
  {
   "cell_type": "markdown",
   "metadata": {
    "colab_type": "text",
    "id": "UEH_qQei_cDY"
   },
   "source": [
    "Print your results!"
   ]
  },
  {
   "cell_type": "code",
   "execution_count": 13,
   "metadata": {
    "colab": {
     "base_uri": "https://localhost:8080/",
     "height": 136
    },
    "colab_type": "code",
    "id": "5UPOgZkTKryx",
    "outputId": "eb436077-dbb5-4d03-8a1b-ede7c1217d79"
   },
   "outputs": [
    {
     "name": "stdout",
     "output_type": "stream",
     "text": [
      "14 Lyndale Street, Gwelup WA 6018\n",
      "SPACIOUS FAMILY HOME 4/5 BEDROOM 2 BATHROOM IN QUIET CUL-DE-SAC\n",
      "Property Type: house\n",
      "Details:  4 bedroom, 2 bathroom 2 carspace\n",
      "Display price: $815,000\n",
      "Price range: $ 990000 - $ 820000\n",
      "$ 1210  -  $ 1002\n",
      "URL: https://www.domain.com.au/14-lyndale-street-gwelup-wa-6018-2016187571\n",
      "total size  : 818.0  sqm\n"
     ]
    }
   ],
   "source": [
    "# Print the results\n",
    "print(da['displayAddress'])\n",
    "print(r['headline'])\n",
    "print(\"Property Type:\",property_type_str)\n",
    "print(\"Details: \",int(bedrooms),\"bedroom,\",int(bathrooms),\"bathroom\",int(carspaces),\"carspace\")\n",
    "print(\"Display price:\",r['priceDetails']['displayPrice'])      \n",
    "if max_price==min_price:\n",
    "  print(\"Price guide:\",\"$\",lower)\n",
    "  print(\"$\",int(lower/size))\n",
    "else:\n",
    "  print(\"Price range:\",\"$\",lower,\"-\",\"$\",upper)\n",
    "  print(\"$\",int(lower/size),\" - \",\"$\",int(upper/size))\n",
    "print(\"URL:\",r['seoUrl'])\n",
    "print(\"total size  :\",size,\" sqm\")\n"
   ]
  },
  {
   "cell_type": "code",
   "execution_count": 14,
   "metadata": {},
   "outputs": [],
   "source": [
    "## add to csv file\n",
    "\n",
    "\n",
    "\n",
    "\n",
    "fields=[property_id,date,r['seoUrl'],da['displayAddress'],r['priceDetails']['displayPrice'],\n",
    "        lower,upper,lower/size,upper/size,size,bedrooms,bathrooms,dateListed,last_updated,status,lat,long]\n",
    "with open(r'results.csv', 'a') as f:\n",
    "  writer = csv.writer(f)\n",
    "  writer.writerow(fields)"
   ]
  },
  {
   "cell_type": "code",
   "execution_count": 15,
   "metadata": {},
   "outputs": [],
   "source": [
    "####suburb details"
   ]
  },
  {
   "cell_type": "code",
   "execution_count": 16,
   "metadata": {},
   "outputs": [
    {
     "data": {
      "text/plain": [
       "{'objective': 'sale',\n",
       " 'propertyTypes': ['house'],\n",
       " 'status': 'live',\n",
       " 'saleMode': 'buy',\n",
       " 'channel': 'residential',\n",
       " 'addressParts': {'stateAbbreviation': 'wa',\n",
       "  'displayType': 'fullAddress',\n",
       "  'streetNumber': '14',\n",
       "  'street': 'Lyndale Street',\n",
       "  'suburb': 'Gwelup',\n",
       "  'postcode': '6018',\n",
       "  'displayAddress': '14 Lyndale Street, Gwelup WA 6018'},\n",
       " 'advertiserIdentifiers': {'advertiserType': 'agency',\n",
       "  'advertiserId': 13233,\n",
       "  'contactIds': [1266667],\n",
       "  'agentIds': ['A1569']},\n",
       " 'bathrooms': 2.0,\n",
       " 'bedrooms': 4.0,\n",
       " 'carspaces': 2.0,\n",
       " 'dateUpdated': '2020-05-14T08:31:06.03Z',\n",
       " 'dateListed': '2020-03-27T08:33:19Z',\n",
       " 'description': 'Nestled in a quiet cul-de-sac this well built brick & tile home is perfectly located in the popular suburb of Gwelup\\r\\n\\r\\nAs you enter the home the property is divided into three separate levels, the entry level contains 4 bedrooms & the main bathroom, one excellent part of the third bedroom is that it is actually 2 bedrooms that are separated by a wall & doorway which makes the home technically a 5 bedroom home. The upper level is accessed by stairs & has a large living room with private balcony, the massive master bedroom complete with robe & renovated en-suite.\\r\\n\\r\\nThe third or lower level contains the country styled kitchen with large pantry, laundry, meals area, the second living area & access to the rear yard.\\r\\n\\r\\nThe rear gardens contain many fruit trees & offer a tranquil area to enjoy & the real bonus is the rear gate which allows access to the Council Park & the walk trails around Lake Gwelup\\r\\n\\r\\nWith a double garage and extra parking available this home offers plenty of potential for the new owner & with many virtues of Gwelup close at hand I am sure the buyers will be ecstatic with their decision to purchase 14 Lyndale St, GWELUP!\\r\\n\\r\\nFor all inquiries or to arrange a private viewing please contact the Listing Agents Kelvin Reynolds 0414 722 576 or Glenn Callanan 0419 008 333',\n",
       " 'geoLocation': {'latitude': -31.8739524, 'longitude': 115.7931353},\n",
       " 'headline': 'SPACIOUS FAMILY HOME 4/5 BEDROOM 2 BATHROOM IN QUIET CUL-DE-SAC',\n",
       " 'id': 2016187571,\n",
       " 'inspectionDetails': {'inspections': [],\n",
       "  'pastInspections': [{'recurrence': 'none',\n",
       "    'closingDateTime': '2020-05-16T04:40:00Z',\n",
       "    'openingDateTime': '2020-05-16T04:00:00Z'}],\n",
       "  'isByAppointmentOnly': False},\n",
       " 'isNewDevelopment': False,\n",
       " 'landAreaSqm': 818.0,\n",
       " 'media': [{'category': 'image',\n",
       "   'type': 'photo',\n",
       "   'url': 'https://bucket-api.domain.com.au/v1/bucket/image/2016187571_1_1_200327_083310-w1500-h1001'},\n",
       "  {'category': 'image',\n",
       "   'type': 'photo',\n",
       "   'url': 'https://bucket-api.domain.com.au/v1/bucket/image/2016187571_18_1_200327_083310-w1500-h1001'},\n",
       "  {'category': 'image',\n",
       "   'type': 'photo',\n",
       "   'url': 'https://bucket-api.domain.com.au/v1/bucket/image/2016187571_2_1_200327_083310-w1500-h1001'},\n",
       "  {'category': 'image',\n",
       "   'type': 'photo',\n",
       "   'url': 'https://bucket-api.domain.com.au/v1/bucket/image/2016187571_3_1_200327_083310-w1500-h1001'},\n",
       "  {'category': 'image',\n",
       "   'type': 'photo',\n",
       "   'url': 'https://bucket-api.domain.com.au/v1/bucket/image/2016187571_4_1_200327_083310-w1500-h1001'}],\n",
       " 'priceDetails': {'price': 815000.0,\n",
       "  'canDisplayPrice': True,\n",
       "  'displayPrice': '$815,000'},\n",
       " 'saleDetails': {'saleMethod': 'privateTreaty',\n",
       "  'tenderDetails': {},\n",
       "  'tenantDetails': {}},\n",
       " 'seoUrl': 'https://www.domain.com.au/14-lyndale-street-gwelup-wa-6018-2016187571'}"
      ]
     },
     "execution_count": 16,
     "metadata": {},
     "output_type": "execute_result"
    }
   ],
   "source": [
    "r"
   ]
  },
  {
   "cell_type": "code",
   "execution_count": 17,
   "metadata": {},
   "outputs": [
    {
     "name": "stdout",
     "output_type": "stream",
     "text": [
      "<Response [200]>\n"
     ]
    },
    {
     "data": {
      "text/plain": [
       "{'domainLocationId': 12678,\n",
       " 'postcode': '6019',\n",
       " 'pfLocationId': 'WA3135',\n",
       " 'surroundingSuburbs': [{'name': 'City Beach',\n",
       "   'urlSlug': 'city-beach-wa-6015'},\n",
       "  {'name': 'Karrinyup', 'urlSlug': 'karrinyup-wa-6018'},\n",
       "  {'name': 'Doubleview', 'urlSlug': 'doubleview-wa-6018'},\n",
       "  {'name': 'Trigg', 'urlSlug': 'trigg-wa-6029'},\n",
       "  {'name': 'Wembley Downs', 'urlSlug': 'wembley-downs-wa-6019'}],\n",
       " 'urlSlug': 'scarborough-wa-6019',\n",
       " 'suburbName': 'Scarborough',\n",
       " 'data': {'studiosForRent': 0,\n",
       "  'terracedHousesForSale': 0,\n",
       "  'semiDetachedHousesForSale': 1,\n",
       "  'townhousesForRent': 13,\n",
       "  'apartmentsAndUnitsForSale': 68,\n",
       "  'apartmentsAndUnitsForRent': 37,\n",
       "  'villasForSale': 22,\n",
       "  'duplexesForSale': 1,\n",
       "  'semiDetachedHousesForRent': 0,\n",
       "  'studiosForSale': 0,\n",
       "  'singlePercentage': 0.6473814711849125,\n",
       "  'mostCommonAgeBracket': '20 to 39',\n",
       "  'renterPercentage': 0.4204246087091275,\n",
       "  'penthousesForSale': 0,\n",
       "  'villasForRent': 13,\n",
       "  'duplexesForRent': 3,\n",
       "  'housesForSale': 51,\n",
       "  'ownerOccupierPercentage': 0.5795753912908724,\n",
       "  'propertyCategories': [{'luxuryLevelPrice': 715000.0,\n",
       "    'numberSold': 76,\n",
       "    'estimatedRepayments': 1531.8975582775663,\n",
       "    'forSale': 5,\n",
       "    'medianSoldPrice': 415000.0,\n",
       "    'medianRentPrice': 360.0,\n",
       "    'daysOnMarket': 101.0,\n",
       "    'bedrooms': 2,\n",
       "    'forRent': 6,\n",
       "    'entryLevelPrice': 320000.0,\n",
       "    'salesGrowthList': [{'medianSoldPrice': 505000.0,\n",
       "      'annualGrowth': 0.0,\n",
       "      'numberSold': 124,\n",
       "      'year': 2015},\n",
       "     {'medianSoldPrice': 465000.0,\n",
       "      'annualGrowth': -0.07920792079207921,\n",
       "      'numberSold': 93,\n",
       "      'year': 2016},\n",
       "     {'medianSoldPrice': 448000.0,\n",
       "      'annualGrowth': -0.03655913978494624,\n",
       "      'numberSold': 83,\n",
       "      'year': 2017},\n",
       "     {'medianSoldPrice': 445000.0,\n",
       "      'annualGrowth': -0.006696428571428571,\n",
       "      'numberSold': 78,\n",
       "      'year': 2018},\n",
       "     {'medianSoldPrice': 450000.0,\n",
       "      'annualGrowth': 0.011235955056179775,\n",
       "      'numberSold': 92,\n",
       "      'year': 2019},\n",
       "     {'medianSoldPrice': 415000.0,\n",
       "      'annualGrowth': -0.07777777777777778,\n",
       "      'numberSold': 76,\n",
       "      'year': 2020}],\n",
       "    'auctionClearanceRate': 0.0,\n",
       "    'propertyCategory': 'House'},\n",
       "   {'luxuryLevelPrice': 990000.0,\n",
       "    'numberSold': 221,\n",
       "    'estimatedRepayments': 2399.357621398598,\n",
       "    'forSale': 19,\n",
       "    'medianSoldPrice': 650000.0,\n",
       "    'medianRentPrice': 460.0,\n",
       "    'daysOnMarket': 116.0,\n",
       "    'bedrooms': 3,\n",
       "    'forRent': 9,\n",
       "    'entryLevelPrice': 457000.0,\n",
       "    'salesGrowthList': [{'medianSoldPrice': 720000.0,\n",
       "      'annualGrowth': 0.0,\n",
       "      'numberSold': 247,\n",
       "      'year': 2015},\n",
       "     {'medianSoldPrice': 680000.0,\n",
       "      'annualGrowth': -0.05555555555555555,\n",
       "      'numberSold': 212,\n",
       "      'year': 2016},\n",
       "     {'medianSoldPrice': 670000.0,\n",
       "      'annualGrowth': -0.014705882352941176,\n",
       "      'numberSold': 199,\n",
       "      'year': 2017},\n",
       "     {'medianSoldPrice': 666000.0,\n",
       "      'annualGrowth': -0.005970149253731343,\n",
       "      'numberSold': 196,\n",
       "      'year': 2018},\n",
       "     {'medianSoldPrice': 635000.0,\n",
       "      'annualGrowth': -0.046546546546546545,\n",
       "      'numberSold': 225,\n",
       "      'year': 2019},\n",
       "     {'medianSoldPrice': 650000.0,\n",
       "      'annualGrowth': 0.023622047244094488,\n",
       "      'numberSold': 221,\n",
       "      'year': 2020}],\n",
       "    'auctionClearanceRate': 0.0,\n",
       "    'propertyCategory': 'House'},\n",
       "   {'luxuryLevelPrice': 1390000.0,\n",
       "    'numberSold': 90,\n",
       "    'estimatedRepayments': 2753.7242854820834,\n",
       "    'forSale': 23,\n",
       "    'medianSoldPrice': 746000.0,\n",
       "    'medianRentPrice': 695.0,\n",
       "    'daysOnMarket': 97.0,\n",
       "    'bedrooms': 4,\n",
       "    'forRent': 10,\n",
       "    'entryLevelPrice': 547000.0,\n",
       "    'salesGrowthList': [{'medianSoldPrice': 890000.0,\n",
       "      'annualGrowth': 0.0,\n",
       "      'numberSold': 59,\n",
       "      'year': 2015},\n",
       "     {'medianSoldPrice': 843000.0,\n",
       "      'annualGrowth': -0.052808988764044947,\n",
       "      'numberSold': 52,\n",
       "      'year': 2016},\n",
       "     {'medianSoldPrice': 849000.0,\n",
       "      'annualGrowth': 0.0071174377224199285,\n",
       "      'numberSold': 55,\n",
       "      'year': 2017},\n",
       "     {'medianSoldPrice': 848000.0,\n",
       "      'annualGrowth': -0.001177856301531213,\n",
       "      'numberSold': 55,\n",
       "      'year': 2018},\n",
       "     {'medianSoldPrice': 848000.0,\n",
       "      'annualGrowth': 0.0,\n",
       "      'numberSold': 69,\n",
       "      'year': 2019},\n",
       "     {'medianSoldPrice': 746000.0,\n",
       "      'annualGrowth': -0.12028301886792453,\n",
       "      'numberSold': 90,\n",
       "      'year': 2020}],\n",
       "    'auctionClearanceRate': 0.0,\n",
       "    'propertyCategory': 'House'},\n",
       "   {'luxuryLevelPrice': 0.0,\n",
       "    'numberSold': 6,\n",
       "    'estimatedRepayments': 0.0,\n",
       "    'forSale': 1,\n",
       "    'medianSoldPrice': 0.0,\n",
       "    'medianRentPrice': 0.0,\n",
       "    'daysOnMarket': 0.0,\n",
       "    'bedrooms': 5,\n",
       "    'forRent': 1,\n",
       "    'entryLevelPrice': 0.0,\n",
       "    'salesGrowthList': [{'medianSoldPrice': 0.0,\n",
       "      'annualGrowth': 0.0,\n",
       "      'numberSold': 4,\n",
       "      'year': 2015},\n",
       "     {'medianSoldPrice': 0.0,\n",
       "      'annualGrowth': 0.0,\n",
       "      'numberSold': 4,\n",
       "      'year': 2016},\n",
       "     {'medianSoldPrice': 0.0,\n",
       "      'annualGrowth': 0.0,\n",
       "      'numberSold': 6,\n",
       "      'year': 2017},\n",
       "     {'medianSoldPrice': 0.0,\n",
       "      'annualGrowth': 0.0,\n",
       "      'numberSold': 4,\n",
       "      'year': 2018},\n",
       "     {'medianSoldPrice': 0.0,\n",
       "      'annualGrowth': 0.0,\n",
       "      'numberSold': 4,\n",
       "      'year': 2019},\n",
       "     {'medianSoldPrice': 0.0,\n",
       "      'annualGrowth': 0.0,\n",
       "      'numberSold': 6,\n",
       "      'year': 2020}],\n",
       "    'auctionClearanceRate': 0.0,\n",
       "    'propertyCategory': 'House'},\n",
       "   {'luxuryLevelPrice': 380000.0,\n",
       "    'numberSold': 10,\n",
       "    'estimatedRepayments': 1077.865269920601,\n",
       "    'forSale': 12,\n",
       "    'medianSoldPrice': 292000.0,\n",
       "    'medianRentPrice': 265.0,\n",
       "    'daysOnMarket': 0.0,\n",
       "    'bedrooms': 1,\n",
       "    'forRent': 6,\n",
       "    'entryLevelPrice': 215000.0,\n",
       "    'salesGrowthList': [{'medianSoldPrice': 380000.0,\n",
       "      'annualGrowth': 0.0,\n",
       "      'numberSold': 17,\n",
       "      'year': 2015},\n",
       "     {'medianSoldPrice': 0.0,\n",
       "      'annualGrowth': 0.0,\n",
       "      'numberSold': 9,\n",
       "      'year': 2016},\n",
       "     {'medianSoldPrice': 0.0,\n",
       "      'annualGrowth': 0.0,\n",
       "      'numberSold': 4,\n",
       "      'year': 2017},\n",
       "     {'medianSoldPrice': 380000.0,\n",
       "      'annualGrowth': 0.0,\n",
       "      'numberSold': 27,\n",
       "      'year': 2018},\n",
       "     {'medianSoldPrice': 285000.0,\n",
       "      'annualGrowth': -0.25,\n",
       "      'numberSold': 15,\n",
       "      'year': 2019},\n",
       "     {'medianSoldPrice': 292000.0,\n",
       "      'annualGrowth': 0.02456140350877193,\n",
       "      'numberSold': 10,\n",
       "      'year': 2020}],\n",
       "    'auctionClearanceRate': 0.0,\n",
       "    'propertyCategory': 'Unit'},\n",
       "   {'luxuryLevelPrice': 605000.0,\n",
       "    'numberSold': 49,\n",
       "    'estimatedRepayments': 1402.7013786637958,\n",
       "    'forSale': 39,\n",
       "    'medianSoldPrice': 380000.0,\n",
       "    'medianRentPrice': 345.0,\n",
       "    'daysOnMarket': 168.0,\n",
       "    'bedrooms': 2,\n",
       "    'forRent': 26,\n",
       "    'entryLevelPrice': 249000.0,\n",
       "    'salesGrowthList': [{'medianSoldPrice': 440000.0,\n",
       "      'annualGrowth': 0.0,\n",
       "      'numberSold': 67,\n",
       "      'year': 2015},\n",
       "     {'medianSoldPrice': 460000.0,\n",
       "      'annualGrowth': 0.045454545454545456,\n",
       "      'numberSold': 55,\n",
       "      'year': 2016},\n",
       "     {'medianSoldPrice': 410000.0,\n",
       "      'annualGrowth': -0.10869565217391304,\n",
       "      'numberSold': 71,\n",
       "      'year': 2017},\n",
       "     {'medianSoldPrice': 456000.0,\n",
       "      'annualGrowth': 0.11219512195121951,\n",
       "      'numberSold': 81,\n",
       "      'year': 2018},\n",
       "     {'medianSoldPrice': 385000.0,\n",
       "      'annualGrowth': -0.15570175438596492,\n",
       "      'numberSold': 49,\n",
       "      'year': 2019},\n",
       "     {'medianSoldPrice': 380000.0,\n",
       "      'annualGrowth': -0.012987012987012988,\n",
       "      'numberSold': 49,\n",
       "      'year': 2020}],\n",
       "    'auctionClearanceRate': 0.0,\n",
       "    'propertyCategory': 'Unit'},\n",
       "   {'luxuryLevelPrice': 1000000.0,\n",
       "    'numberSold': 15,\n",
       "    'estimatedRepayments': 2281.235400037436,\n",
       "    'forSale': 16,\n",
       "    'medianSoldPrice': 618000.0,\n",
       "    'medianRentPrice': 490.0,\n",
       "    'daysOnMarket': 40.0,\n",
       "    'bedrooms': 3,\n",
       "    'forRent': 5,\n",
       "    'entryLevelPrice': 443000.0,\n",
       "    'salesGrowthList': [{'medianSoldPrice': 633000.0,\n",
       "      'annualGrowth': 0.0,\n",
       "      'numberSold': 14,\n",
       "      'year': 2015},\n",
       "     {'medianSoldPrice': 590000.0,\n",
       "      'annualGrowth': -0.0679304897314376,\n",
       "      'numberSold': 23,\n",
       "      'year': 2016},\n",
       "     {'medianSoldPrice': 545000.0,\n",
       "      'annualGrowth': -0.07627118644067797,\n",
       "      'numberSold': 11,\n",
       "      'year': 2017},\n",
       "     {'medianSoldPrice': 550000.0,\n",
       "      'annualGrowth': 0.009174311926605505,\n",
       "      'numberSold': 19,\n",
       "      'year': 2018},\n",
       "     {'medianSoldPrice': 645000.0,\n",
       "      'annualGrowth': 0.17272727272727273,\n",
       "      'numberSold': 16,\n",
       "      'year': 2019},\n",
       "     {'medianSoldPrice': 618000.0,\n",
       "      'annualGrowth': -0.04186046511627907,\n",
       "      'numberSold': 15,\n",
       "      'year': 2020}],\n",
       "    'auctionClearanceRate': 0.0,\n",
       "    'propertyCategory': 'Unit'}],\n",
       "  'population': 15456.0,\n",
       "  'penthousesForRent': 0,\n",
       "  'townhousesForSale': 23,\n",
       "  'terracedHousesForRent': 0,\n",
       "  'marriedPercentage': 0.35261852881508754,\n",
       "  'housesForRent': 26,\n",
       "  'blockOfUnitsForSale': 0},\n",
       " 'apmLocationId': 12678,\n",
       " 'locationId': 12678,\n",
       " 'areaName': 'Northern Suburbs',\n",
       " 'regionName': 'Perth Region',\n",
       " 'state': 'WA'}"
      ]
     },
     "execution_count": 17,
     "metadata": {},
     "output_type": "execute_result"
    }
   ],
   "source": [
    "# POST request for token\n",
    "def suburb_details(suburb_id):\n",
    "    response = requests.post('https://auth.domain.com.au/v1/connect/token', data = {'client_id':'client_ccdf714ee11cc66cc1d679119502e8ed',\"client_secret\":\"secret_14d43a0461bed7347d46dca18d201f34\",\"grant_type\":\"client_credentials\",\"scope\":\"api_locations_read\",\"Content-Type\":\"text/json\"})\n",
    "    token=response.json()\n",
    "    access_token=token[\"access_token\"]\n",
    "    # GET Request for ID\n",
    "    url = \"https://api.domain.com.au/v1/locations/profiles/\"+str(suburb_id)\n",
    "    auth = {\"Authorization\":\"Bearer \"+ access_token}\n",
    "    request = requests.get(url,headers=auth)\n",
    "    print(request)\n",
    "    r=request.json()\n",
    "    return r\n",
    "suburb_id = 12678\n",
    "scarboro = 12678\n",
    "doubleview = 4138\n",
    "\n",
    "x = suburb_details(suburb_id)\n",
    "x"
   ]
  },
  {
   "cell_type": "code",
   "execution_count": 18,
   "metadata": {},
   "outputs": [
    {
     "data": {
      "text/plain": [
       "[{'medianSoldPrice': 505000.0,\n",
       "  'annualGrowth': 0.0,\n",
       "  'numberSold': 124,\n",
       "  'year': 2015},\n",
       " {'medianSoldPrice': 465000.0,\n",
       "  'annualGrowth': -0.07920792079207921,\n",
       "  'numberSold': 93,\n",
       "  'year': 2016},\n",
       " {'medianSoldPrice': 448000.0,\n",
       "  'annualGrowth': -0.03655913978494624,\n",
       "  'numberSold': 83,\n",
       "  'year': 2017},\n",
       " {'medianSoldPrice': 445000.0,\n",
       "  'annualGrowth': -0.006696428571428571,\n",
       "  'numberSold': 78,\n",
       "  'year': 2018},\n",
       " {'medianSoldPrice': 450000.0,\n",
       "  'annualGrowth': 0.011235955056179775,\n",
       "  'numberSold': 92,\n",
       "  'year': 2019},\n",
       " {'medianSoldPrice': 415000.0,\n",
       "  'annualGrowth': -0.07777777777777778,\n",
       "  'numberSold': 76,\n",
       "  'year': 2020}]"
      ]
     },
     "execution_count": 18,
     "metadata": {},
     "output_type": "execute_result"
    }
   ],
   "source": [
    "data = x.get('data')\n",
    "data.get('propertyCategories')[0].get('salesGrowthList')"
   ]
  },
  {
   "cell_type": "code",
   "execution_count": null,
   "metadata": {},
   "outputs": [],
   "source": []
  }
 ],
 "metadata": {
  "colab": {
   "collapsed_sections": [],
   "include_colab_link": true,
   "name": "Property Price Checker 1.0.ipynb",
   "provenance": []
  },
  "kernelspec": {
   "display_name": "Python 3",
   "language": "python",
   "name": "python3"
  },
  "language_info": {
   "codemirror_mode": {
    "name": "ipython",
    "version": 3
   },
   "file_extension": ".py",
   "mimetype": "text/x-python",
   "name": "python",
   "nbconvert_exporter": "python",
   "pygments_lexer": "ipython3",
   "version": "3.7.3"
  }
 },
 "nbformat": 4,
 "nbformat_minor": 1
}
